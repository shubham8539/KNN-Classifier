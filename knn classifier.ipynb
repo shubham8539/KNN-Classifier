{
 "cells": [
  {
   "cell_type": "code",
   "execution_count": 1,
   "metadata": {},
   "outputs": [],
   "source": [
    "import numpy as np\n",
    "import pandas as pd\n",
    "import matplotlib.pyplot as plt"
   ]
  },
  {
   "cell_type": "code",
   "execution_count": 2,
   "metadata": {},
   "outputs": [],
   "source": [
    "data=pd.read_csv('Social_Network_Ads.csv')"
   ]
  },
  {
   "cell_type": "code",
   "execution_count": 3,
   "metadata": {},
   "outputs": [
    {
     "data": {
      "text/html": [
       "<div>\n",
       "<style scoped>\n",
       "    .dataframe tbody tr th:only-of-type {\n",
       "        vertical-align: middle;\n",
       "    }\n",
       "\n",
       "    .dataframe tbody tr th {\n",
       "        vertical-align: top;\n",
       "    }\n",
       "\n",
       "    .dataframe thead th {\n",
       "        text-align: right;\n",
       "    }\n",
       "</style>\n",
       "<table border=\"1\" class=\"dataframe\">\n",
       "  <thead>\n",
       "    <tr style=\"text-align: right;\">\n",
       "      <th></th>\n",
       "      <th>User ID</th>\n",
       "      <th>Gender</th>\n",
       "      <th>Age</th>\n",
       "      <th>EstimatedSalary</th>\n",
       "      <th>Purchased</th>\n",
       "    </tr>\n",
       "  </thead>\n",
       "  <tbody>\n",
       "    <tr>\n",
       "      <th>0</th>\n",
       "      <td>15624510</td>\n",
       "      <td>Male</td>\n",
       "      <td>19</td>\n",
       "      <td>19000</td>\n",
       "      <td>0</td>\n",
       "    </tr>\n",
       "    <tr>\n",
       "      <th>1</th>\n",
       "      <td>15810944</td>\n",
       "      <td>Male</td>\n",
       "      <td>35</td>\n",
       "      <td>20000</td>\n",
       "      <td>0</td>\n",
       "    </tr>\n",
       "    <tr>\n",
       "      <th>2</th>\n",
       "      <td>15668575</td>\n",
       "      <td>Female</td>\n",
       "      <td>26</td>\n",
       "      <td>43000</td>\n",
       "      <td>0</td>\n",
       "    </tr>\n",
       "    <tr>\n",
       "      <th>3</th>\n",
       "      <td>15603246</td>\n",
       "      <td>Female</td>\n",
       "      <td>27</td>\n",
       "      <td>57000</td>\n",
       "      <td>0</td>\n",
       "    </tr>\n",
       "    <tr>\n",
       "      <th>4</th>\n",
       "      <td>15804002</td>\n",
       "      <td>Male</td>\n",
       "      <td>19</td>\n",
       "      <td>76000</td>\n",
       "      <td>0</td>\n",
       "    </tr>\n",
       "  </tbody>\n",
       "</table>\n",
       "</div>"
      ],
      "text/plain": [
       "    User ID  Gender  Age  EstimatedSalary  Purchased\n",
       "0  15624510    Male   19            19000          0\n",
       "1  15810944    Male   35            20000          0\n",
       "2  15668575  Female   26            43000          0\n",
       "3  15603246  Female   27            57000          0\n",
       "4  15804002    Male   19            76000          0"
      ]
     },
     "execution_count": 3,
     "metadata": {},
     "output_type": "execute_result"
    }
   ],
   "source": [
    "data.head()"
   ]
  },
  {
   "cell_type": "code",
   "execution_count": 4,
   "metadata": {},
   "outputs": [
    {
     "data": {
      "text/plain": [
       "(400, 2)"
      ]
     },
     "execution_count": 4,
     "metadata": {},
     "output_type": "execute_result"
    }
   ],
   "source": [
    "X=data.iloc[:,2:4].values\n",
    "X.shape"
   ]
  },
  {
   "cell_type": "code",
   "execution_count": 5,
   "metadata": {},
   "outputs": [
    {
     "data": {
      "text/plain": [
       "(400,)"
      ]
     },
     "execution_count": 5,
     "metadata": {},
     "output_type": "execute_result"
    }
   ],
   "source": [
    "y=data.iloc[:,-1].values\n",
    "y.shape"
   ]
  },
  {
   "cell_type": "code",
   "execution_count": 6,
   "metadata": {},
   "outputs": [],
   "source": [
    "from sklearn.model_selection import train_test_split\n",
    "X_train,X_test,y_train,y_test=train_test_split(X,y,test_size=0.20)\n"
   ]
  },
  {
   "cell_type": "code",
   "execution_count": 7,
   "metadata": {},
   "outputs": [],
   "source": [
    "from sklearn.preprocessing import StandardScaler\n",
    "scaler=StandardScaler()"
   ]
  },
  {
   "cell_type": "code",
   "execution_count": 8,
   "metadata": {},
   "outputs": [
    {
     "data": {
      "text/plain": [
       "array([[-0.15880689,  0.13615059],\n",
       "       [-0.15880689,  2.16462903],\n",
       "       [ 0.4111169 , -0.51061065],\n",
       "       [-0.91870528,  0.54772593],\n",
       "       [ 1.83592638, -0.30482298],\n",
       "       [-0.44376878, -0.86338951],\n",
       "       [-0.63374338, -1.06917718],\n",
       "       [-1.20366717,  0.25374354],\n",
       "       [ 0.12615501,  1.87064665],\n",
       "       [-0.25379419, -0.3930177 ],\n",
       "       [-0.91870528, -0.33422122],\n",
       "       [-1.10867987, -1.59834546],\n",
       "       [-0.91870528, -1.12797365],\n",
       "       [ 0.79106609, -1.3925578 ],\n",
       "       [-0.44376878, -1.24556661],\n",
       "       [-0.82371798, -1.24556661],\n",
       "       [-1.58361637,  0.51832769],\n",
       "       [-0.06381959, -0.24602651],\n",
       "       [-0.72873068, -0.6282036 ],\n",
       "       [ 0.79106609,  0.51832769],\n",
       "       [-1.58361637, -0.06963708],\n",
       "       [-1.48862907, -1.53954899],\n",
       "       [ 0.3161296 ,  0.01855764],\n",
       "       [-0.34878149,  0.04795588],\n",
       "       [-0.34878149, -0.80459303],\n",
       "       [-1.58361637, -1.59834546],\n",
       "       [ 0.4111169 , -0.15783179],\n",
       "       [-1.01369258, -0.3930177 ],\n",
       "       [ 0.6960788 , -1.30436308],\n",
       "       [-0.53875608,  1.3708766 ],\n",
       "       [ 2.02590097,  1.75305369],\n",
       "       [ 0.2211423 , -0.68700008],\n",
       "       [ 1.07602799, -1.0103807 ],\n",
       "       [-1.10867987, -0.54000889],\n",
       "       [-0.15880689, -1.09857541],\n",
       "       [-0.06381959,  0.28314178],\n",
       "       [ 0.03116771, -0.27542474],\n",
       "       [ 0.98104069,  1.9882396 ],\n",
       "       [-0.25379419, -0.30482298],\n",
       "       [ 1.07602799,  0.10675235],\n",
       "       [-1.29865447, -1.51015075],\n",
       "       [ 0.3161296 ,  0.25374354],\n",
       "       [ 0.6960788 ,  1.78245193],\n",
       "       [-1.77359096,  0.16554883],\n",
       "       [ 0.2211423 ,  0.13615059],\n",
       "       [-0.06381959,  0.66531888],\n",
       "       [ 0.03116771,  0.28314178],\n",
       "       [ 0.2211423 ,  0.01855764],\n",
       "       [-0.25379419,  1.10629245],\n",
       "       [-0.72873068,  1.07689421],\n",
       "       [-0.06381959,  0.25374354],\n",
       "       [-0.15880689,  1.40027483],\n",
       "       [-1.01369258, -1.56894723],\n",
       "       [-1.20366717,  0.28314178],\n",
       "       [ 0.12615501, -0.33422122],\n",
       "       [-1.77359096, -1.33376132],\n",
       "       [ 1.36098989,  0.57712416],\n",
       "       [ 1.93091368,  2.16462903],\n",
       "       [ 0.6010915 ,  2.01763784],\n",
       "       [-1.10867987,  1.40027483],\n",
       "       [-0.63374338,  1.40027483],\n",
       "       [ 1.64595178, -0.92218599],\n",
       "       [ 0.12615501, -0.83399127],\n",
       "       [ 1.26600259,  1.87064665],\n",
       "       [ 1.83592638,  1.51786779],\n",
       "       [ 0.98104069,  0.10675235],\n",
       "       [-0.06381959, -0.0108406 ],\n",
       "       [ 1.45597718,  0.9886995 ],\n",
       "       [-1.39364177, -0.12843355],\n",
       "       [ 1.36098989,  2.34101846],\n",
       "       [-0.15880689, -0.54000889],\n",
       "       [ 0.2211423 ,  0.04795588],\n",
       "       [-0.15880689, -0.59880536],\n",
       "       [ 0.98104069,  1.42967307],\n",
       "       [ 0.88605339,  1.01809774],\n",
       "       [-1.01369258, -0.36361946],\n",
       "       [-0.06381959,  0.28314178],\n",
       "       [ 2.12088827, -0.71639832],\n",
       "       [-1.29865447, -1.3925578 ],\n",
       "       [-0.91870528,  1.54726603],\n",
       "       [-0.25379419, -0.59880536],\n",
       "       [-1.10867987,  0.45953121],\n",
       "       [-1.10867987, -1.6277437 ],\n",
       "       [ 1.26600259, -1.3925578 ],\n",
       "       [-1.10867987, -1.6277437 ],\n",
       "       [ 1.93091368,  0.72411536],\n",
       "       [-0.44376878, -1.15737189],\n",
       "       [ 0.3161296 ,  0.48892945],\n",
       "       [ 0.79106609,  0.75351359],\n",
       "       [ 1.07602799, -0.15783179],\n",
       "       [ 0.98104069, -1.21616837],\n",
       "       [ 1.45597718,  2.13523079],\n",
       "       [ 0.3161296 ,  0.04795588],\n",
       "       [-1.86857826, -0.77519479],\n",
       "       [-0.25379419, -0.15783179],\n",
       "       [ 0.79106609,  0.25374354],\n",
       "       [ 1.17101529, -0.77519479],\n",
       "       [ 0.4111169 , -0.48121241],\n",
       "       [-0.72873068,  0.54772593],\n",
       "       [-0.72873068,  0.25374354],\n",
       "       [-0.82371798, -0.80459303],\n",
       "       [-0.15880689, -0.48121241],\n",
       "       [-1.48862907, -0.21662827],\n",
       "       [-1.39364177, -0.21662827],\n",
       "       [ 1.45597718,  0.04795588],\n",
       "       [-0.06381959, -0.54000889],\n",
       "       [ 0.79106609, -0.86338951],\n",
       "       [-0.72873068,  1.34147836],\n",
       "       [-0.25379419, -1.48075251],\n",
       "       [ 0.03116771, -0.59880536],\n",
       "       [ 0.79106609, -0.33422122],\n",
       "       [ 1.55096448, -0.0108406 ],\n",
       "       [ 0.88605339, -1.18677013],\n",
       "       [-0.91870528, -0.33422122],\n",
       "       [ 0.12615501, -0.83399127],\n",
       "       [ 1.07602799,  0.45953121],\n",
       "       [-1.29865447, -1.12797365],\n",
       "       [ 0.3161296 ,  0.04795588],\n",
       "       [ 0.12615501, -0.27542474],\n",
       "       [ 2.02590097,  0.16554883],\n",
       "       [ 0.12615501,  0.01855764],\n",
       "       [-0.06381959,  0.04795588],\n",
       "       [ 1.74093908,  0.9886995 ],\n",
       "       [ 0.3161296 , -0.21662827],\n",
       "       [-0.25379419,  0.07735411],\n",
       "       [-0.06381959, -0.3930177 ],\n",
       "       [ 0.2211423 , -0.30482298],\n",
       "       [ 0.79106609,  1.3708766 ],\n",
       "       [ 2.02590097, -0.83399127],\n",
       "       [-1.20366717, -1.42195604],\n",
       "       [-1.20366717, -1.09857541],\n",
       "       [-1.10867987,  0.40073473],\n",
       "       [ 0.98104069, -1.09857541],\n",
       "       [-0.91870528,  0.25374354],\n",
       "       [ 0.98104069, -0.86338951],\n",
       "       [ 0.4111169 , -0.0108406 ],\n",
       "       [-0.63374338,  0.54772593],\n",
       "       [ 1.26600259,  2.2234255 ],\n",
       "       [-0.06381959,  2.2234255 ],\n",
       "       [-1.29865447, -1.27496484],\n",
       "       [-1.20366717,  0.57712416],\n",
       "       [-0.15880689, -0.21662827],\n",
       "       [-0.82371798,  0.13615059],\n",
       "       [-1.01369258, -1.15737189],\n",
       "       [-0.63374338,  0.10675235],\n",
       "       [-0.44376878,  2.31162022],\n",
       "       [ 0.12615501,  0.19494707],\n",
       "       [ 0.88605339,  1.07689421],\n",
       "       [ 2.02590097, -1.21616837],\n",
       "       [-1.86857826, -0.06963708],\n",
       "       [ 0.4111169 ,  0.25374354],\n",
       "       [-1.39364177, -0.65760184],\n",
       "       [-0.15880689,  1.63546074],\n",
       "       [-0.25379419,  0.01855764],\n",
       "       [-0.25379419,  0.78291183],\n",
       "       [ 0.3161296 , -0.54000889],\n",
       "       [-0.25379419, -1.27496484],\n",
       "       [-0.25379419,  0.13615059],\n",
       "       [ 0.98104069,  1.78245193],\n",
       "       [ 1.55096448, -1.30436308],\n",
       "       [ 0.12615501,  1.87064665],\n",
       "       [ 1.07602799, -1.24556661],\n",
       "       [ 1.74093908, -0.30482298],\n",
       "       [-1.58361637,  0.04795588],\n",
       "       [ 0.79106609, -1.42195604],\n",
       "       [ 0.88605339, -0.68700008],\n",
       "       [ 0.03116771,  0.01855764],\n",
       "       [-1.29865447, -0.45181417],\n",
       "       [-1.10867987,  0.28314178],\n",
       "       [-1.01369258,  0.57712416],\n",
       "       [-0.53875608,  1.45907131],\n",
       "       [-1.77359096, -1.30436308],\n",
       "       [-0.15880689,  1.6060625 ],\n",
       "       [ 1.36098989, -0.95158422],\n",
       "       [ 0.6010915 , -0.92218599],\n",
       "       [ 1.45597718, -1.06917718],\n",
       "       [-0.63374338, -0.06963708],\n",
       "       [-0.06381959,  1.95884136],\n",
       "       [-1.67860366,  0.45953121],\n",
       "       [-0.82371798, -0.27542474],\n",
       "       [ 0.03116771, -0.15783179],\n",
       "       [-0.25379419, -1.3925578 ],\n",
       "       [ 0.3161296 , -0.54000889],\n",
       "       [-0.91870528, -0.77519479],\n",
       "       [ 1.07602799,  0.54772593],\n",
       "       [-0.72873068, -1.56894723],\n",
       "       [-1.86857826,  0.45953121],\n",
       "       [-1.29865447, -0.36361946],\n",
       "       [-0.82371798,  2.28222198],\n",
       "       [ 0.12615501,  0.13615059],\n",
       "       [ 0.2211423 , -0.33422122],\n",
       "       [ 0.03116771, -0.59880536],\n",
       "       [ 0.3161296 , -0.30482298],\n",
       "       [ 1.83592638,  0.10675235],\n",
       "       [-1.77359096,  0.43013297],\n",
       "       [-0.25379419, -0.95158422],\n",
       "       [-0.44376878,  1.25328364],\n",
       "       [-0.25379419, -0.92218599],\n",
       "       [-0.82371798, -0.68700008],\n",
       "       [-0.06381959,  2.16462903],\n",
       "       [-0.06381959,  0.19494707],\n",
       "       [-0.34878149, -1.33376132],\n",
       "       [-0.44376878, -0.30482298],\n",
       "       [ 0.6960788 , -1.42195604],\n",
       "       [-0.25379419,  0.04795588],\n",
       "       [ 0.12615501,  1.04749598],\n",
       "       [-0.25379419, -0.27542474],\n",
       "       [-0.25379419, -0.59880536],\n",
       "       [ 1.07602799,  0.51832769],\n",
       "       [-1.10867987, -1.03977894],\n",
       "       [-1.10867987, -1.18677013],\n",
       "       [-0.91870528,  0.40073473],\n",
       "       [-0.25379419,  0.25374354],\n",
       "       [ 0.88605339, -1.3925578 ],\n",
       "       [ 1.36098989,  1.28268188],\n",
       "       [ 1.93091368, -0.68700008],\n",
       "       [-0.25379419, -0.68700008],\n",
       "       [-0.25379419, -0.36361946],\n",
       "       [-0.72873068,  1.90004488],\n",
       "       [-0.06381959,  0.01855764],\n",
       "       [-0.25379419,  2.25282374],\n",
       "       [-0.06381959,  0.10675235],\n",
       "       [ 0.4111169 ,  1.10629245],\n",
       "       [-1.86857826, -0.54000889],\n",
       "       [ 0.4111169 ,  0.28314178],\n",
       "       [ 0.3161296 , -1.18677013],\n",
       "       [ 0.3161296 ,  0.04795588],\n",
       "       [ 1.17101529,  0.51832769],\n",
       "       [-0.82371798,  0.3713365 ],\n",
       "       [ 0.79106609,  0.10675235],\n",
       "       [-0.53875608,  2.34101846],\n",
       "       [ 0.2211423 ,  0.13615059],\n",
       "       [-0.53875608,  1.90004488],\n",
       "       [ 0.03116771, -0.45181417],\n",
       "       [ 1.36098989,  1.9882396 ],\n",
       "       [-0.25379419, -0.33422122],\n",
       "       [-0.25379419, -1.42195604],\n",
       "       [ 0.03116771, -0.27542474],\n",
       "       [-0.34878149,  1.22388541],\n",
       "       [ 0.4111169 ,  2.31162022],\n",
       "       [ 1.74093908,  1.84124841],\n",
       "       [-0.44376878, -0.56940713],\n",
       "       [ 0.88605339, -0.80459303],\n",
       "       [-1.01369258,  0.75351359],\n",
       "       [ 0.12615501,  0.75351359],\n",
       "       [ 0.88605339, -0.59880536],\n",
       "       [-1.29865447, -0.45181417],\n",
       "       [-1.10867987, -0.80459303],\n",
       "       [-0.06381959, -0.51061065],\n",
       "       [-0.25379419,  0.04795588],\n",
       "       [-1.67860366,  0.10675235],\n",
       "       [ 1.07602799, -1.24556661],\n",
       "       [-1.10867987,  0.28314178],\n",
       "       [ 0.12615501,  1.51786779],\n",
       "       [ 1.93091368, -0.95158422],\n",
       "       [ 0.2211423 , -0.3930177 ],\n",
       "       [ 0.4111169 , -0.48121241],\n",
       "       [ 2.12088827,  0.3713365 ],\n",
       "       [ 0.4111169 , -0.15783179],\n",
       "       [-0.15880689, -0.30482298],\n",
       "       [ 2.12088827, -1.06917718],\n",
       "       [ 0.3161296 ,  0.28314178],\n",
       "       [-1.67860366, -1.3925578 ],\n",
       "       [ 0.88605339, -0.56940713],\n",
       "       [ 1.93091368,  0.90050478],\n",
       "       [ 0.88605339, -0.6282036 ],\n",
       "       [ 2.12088827,  0.92990302],\n",
       "       [-1.01369258, -0.48121241],\n",
       "       [-1.29865447,  0.54772593],\n",
       "       [-1.77359096, -0.0108406 ],\n",
       "       [-0.91870528,  0.48892945],\n",
       "       [ 1.93091368, -1.3925578 ],\n",
       "       [-0.82371798,  0.28314178],\n",
       "       [ 0.6960788 ,  0.25374354],\n",
       "       [ 1.45597718,  0.34193826],\n",
       "       [-1.86857826,  0.34193826],\n",
       "       [ 0.2211423 ,  2.10583255],\n",
       "       [-1.01369258, -1.48075251],\n",
       "       [-0.25379419, -0.45181417],\n",
       "       [ 0.4111169 ,  0.57712416],\n",
       "       [ 0.79106609, -1.12797365],\n",
       "       [ 0.88605339, -1.48075251],\n",
       "       [-0.15880689,  0.84170831],\n",
       "       [ 0.4111169 ,  0.13615059],\n",
       "       [-0.06381959,  0.13615059],\n",
       "       [ 1.36098989, -1.45135427],\n",
       "       [-1.10867987,  0.04795588],\n",
       "       [-0.06381959, -1.09857541],\n",
       "       [ 1.55096448,  0.9886995 ],\n",
       "       [ 1.07602799, -0.92218599],\n",
       "       [-1.39364177, -1.24556661],\n",
       "       [-0.25379419,  0.19494707],\n",
       "       [ 0.79106609,  0.34193826],\n",
       "       [ 2.12088827, -0.83399127],\n",
       "       [-0.72873068, -0.24602651],\n",
       "       [ 0.4111169 , -0.18723003],\n",
       "       [-0.72873068,  0.48892945],\n",
       "       [-1.48862907, -0.45181417],\n",
       "       [ 1.07602799,  2.07643431],\n",
       "       [-0.44376878, -0.04023884],\n",
       "       [ 2.12088827,  1.10629245],\n",
       "       [-1.01369258,  0.54772593],\n",
       "       [ 0.12615501,  0.25374354],\n",
       "       [-1.67860366, -1.0103807 ],\n",
       "       [-0.53875608, -1.53954899],\n",
       "       [ 0.03116771,  0.01855764],\n",
       "       [-0.82371798, -0.80459303],\n",
       "       [ 0.12615501,  0.01855764],\n",
       "       [ 0.98104069, -1.09857541],\n",
       "       [ 0.98104069,  2.07643431],\n",
       "       [ 0.5061042 ,  1.84124841],\n",
       "       [ 0.98104069,  0.75351359],\n",
       "       [ 2.12088827, -0.83399127],\n",
       "       [-1.10867987, -1.56894723],\n",
       "       [-1.01369258,  0.40073473],\n",
       "       [-0.44376878, -0.80459303],\n",
       "       [-0.63374338, -0.12843355],\n",
       "       [-1.67860366,  0.34193826],\n",
       "       [-1.01369258,  0.51832769],\n",
       "       [ 0.88605339,  2.16462903]])"
      ]
     },
     "execution_count": 8,
     "metadata": {},
     "output_type": "execute_result"
    }
   ],
   "source": [
    "X_train=scaler.fit_transform(X_train)\n",
    "X_train\n"
   ]
  },
  {
   "cell_type": "code",
   "execution_count": 9,
   "metadata": {},
   "outputs": [
    {
     "data": {
      "text/plain": [
       "array([[-0.25379419,  0.13615059],\n",
       "       [ 0.88605339, -1.06917718],\n",
       "       [ 0.5061042 ,  1.72365546],\n",
       "       [ 0.12615501,  0.07735411],\n",
       "       [ 0.03116771, -0.33422122],\n",
       "       [-1.67860366,  0.34193826],\n",
       "       [ 1.64595178,  1.75305369],\n",
       "       [-0.53875608,  0.45953121],\n",
       "       [ 0.98104069,  0.57712416],\n",
       "       [ 0.4111169 ,  0.9886995 ],\n",
       "       [-1.10867987,  0.31254002],\n",
       "       [-1.48862907,  0.31254002],\n",
       "       [ 0.03116771,  1.22388541],\n",
       "       [ 2.02590097,  0.3713365 ],\n",
       "       [ 0.03116771,  1.25328364],\n",
       "       [-0.06381959, -0.45181417],\n",
       "       [-1.10867987, -1.12797365],\n",
       "       [ 0.5061042 ,  1.22388541],\n",
       "       [-0.63374338, -1.6277437 ],\n",
       "       [ 0.88605339, -1.33376132],\n",
       "       [-0.72873068,  0.28314178],\n",
       "       [ 0.98104069,  1.87064665],\n",
       "       [-0.34878149, -0.80459303],\n",
       "       [ 0.3161296 , -0.56940713],\n",
       "       [ 0.6960788 , -1.12797365],\n",
       "       [ 1.17101529, -1.0103807 ],\n",
       "       [-0.25379419, -1.33376132],\n",
       "       [ 0.2211423 , -0.3930177 ],\n",
       "       [ 0.03116771, -0.56940713],\n",
       "       [-1.77359096, -1.51015075],\n",
       "       [-0.72873068, -1.6277437 ],\n",
       "       [ 0.4111169 ,  0.28314178],\n",
       "       [ 1.17101529, -1.48075251],\n",
       "       [ 1.55096448,  1.10629245],\n",
       "       [-1.01369258,  1.95884136],\n",
       "       [-1.01369258, -0.36361946],\n",
       "       [ 0.79106609, -1.24556661],\n",
       "       [-0.53875608,  1.3708766 ],\n",
       "       [-0.25379419,  0.51832769],\n",
       "       [ 0.2211423 ,  0.22434531],\n",
       "       [-0.63374338, -1.53954899],\n",
       "       [-0.63374338,  0.01855764],\n",
       "       [ 1.64595178,  1.6060625 ],\n",
       "       [-0.63374338,  0.16554883],\n",
       "       [-0.53875608,  0.87110655],\n",
       "       [-1.48862907, -1.27496484],\n",
       "       [ 0.6960788 , -1.42195604],\n",
       "       [-1.77359096, -1.45135427],\n",
       "       [-0.91870528, -0.45181417],\n",
       "       [ 1.83592638, -1.09857541],\n",
       "       [ 2.02590097,  0.51832769],\n",
       "       [ 0.3161296 ,  0.04795588],\n",
       "       [ 0.2211423 , -0.3930177 ],\n",
       "       [-0.25379419, -0.77519479],\n",
       "       [-1.39364177, -1.48075251],\n",
       "       [-1.20366717,  0.48892945],\n",
       "       [-0.91870528, -0.98098246],\n",
       "       [ 0.3161296 , -0.33422122],\n",
       "       [-1.67860366, -0.6282036 ],\n",
       "       [ 0.4111169 ,  0.07735411],\n",
       "       [-0.06381959,  0.22434531],\n",
       "       [-0.34878149,  1.31208012],\n",
       "       [ 0.6960788 , -0.74579656],\n",
       "       [ 1.83592638, -1.30436308],\n",
       "       [-1.39364177,  0.34193826],\n",
       "       [-0.63374338, -0.36361946],\n",
       "       [-0.82371798,  0.3713365 ],\n",
       "       [ 0.3161296 , -0.74579656],\n",
       "       [-1.29865447,  0.40073473],\n",
       "       [-0.91870528,  0.43013297],\n",
       "       [-0.25379419,  0.6065224 ],\n",
       "       [ 0.2211423 ,  1.07689421],\n",
       "       [ 2.02590097,  2.13523079],\n",
       "       [ 0.98104069, -1.03977894],\n",
       "       [-0.53875608, -1.53954899],\n",
       "       [ 0.88605339,  1.25328364],\n",
       "       [-0.25379419, -0.51061065],\n",
       "       [ 0.2211423 , -0.15783179],\n",
       "       [ 0.98104069, -1.18677013],\n",
       "       [ 0.2211423 , -0.27542474]])"
      ]
     },
     "execution_count": 9,
     "metadata": {},
     "output_type": "execute_result"
    }
   ],
   "source": [
    "X_test=scaler.transform(X_test)\n",
    "X_test\n"
   ]
  },
  {
   "cell_type": "code",
   "execution_count": 10,
   "metadata": {},
   "outputs": [
    {
     "data": {
      "text/plain": [
       "17.88854381999832"
      ]
     },
     "execution_count": 10,
     "metadata": {},
     "output_type": "execute_result"
    }
   ],
   "source": [
    "#k\n",
    "np.sqrt(X_train.shape[0])"
   ]
  },
  {
   "cell_type": "code",
   "execution_count": 11,
   "metadata": {},
   "outputs": [],
   "source": [
    "k=17\n"
   ]
  },
  {
   "cell_type": "code",
   "execution_count": 12,
   "metadata": {},
   "outputs": [],
   "source": [
    "from sklearn.neighbors import KNeighborsClassifier\n",
    "knn=KNeighborsClassifier(n_neighbors=k)"
   ]
  },
  {
   "cell_type": "code",
   "execution_count": 13,
   "metadata": {},
   "outputs": [
    {
     "data": {
      "text/plain": [
       "KNeighborsClassifier(algorithm='auto', leaf_size=30, metric='minkowski',\n",
       "                     metric_params=None, n_jobs=None, n_neighbors=17, p=2,\n",
       "                     weights='uniform')"
      ]
     },
     "execution_count": 13,
     "metadata": {},
     "output_type": "execute_result"
    }
   ],
   "source": [
    "#train model\n",
    "knn.fit(X_train,y_train)"
   ]
  },
  {
   "cell_type": "code",
   "execution_count": 14,
   "metadata": {},
   "outputs": [],
   "source": [
    "y_pred=knn.predict(X_test)"
   ]
  },
  {
   "cell_type": "code",
   "execution_count": 15,
   "metadata": {},
   "outputs": [
    {
     "data": {
      "text/plain": [
       "0.875"
      ]
     },
     "execution_count": 15,
     "metadata": {},
     "output_type": "execute_result"
    }
   ],
   "source": [
    "from sklearn.metrics import accuracy_score\n",
    "accuracy_score(y_test,y_pred)"
   ]
  },
  {
   "cell_type": "code",
   "execution_count": 16,
   "metadata": {},
   "outputs": [
    {
     "data": {
      "text/plain": [
       "array([[45,  4],\n",
       "       [ 6, 25]], dtype=int64)"
      ]
     },
     "execution_count": 16,
     "metadata": {},
     "output_type": "execute_result"
    }
   ],
   "source": [
    "from sklearn.metrics import confusion_matrix\n",
    "confusion_matrix(y_test,y_pred)"
   ]
  },
  {
   "cell_type": "code",
   "execution_count": null,
   "metadata": {},
   "outputs": [],
   "source": []
  },
  {
   "cell_type": "code",
   "execution_count": 17,
   "metadata": {},
   "outputs": [],
   "source": [
    "#2nd\n",
    "accuracy=[]\n",
    "for i in range(1,26):\n",
    "    knn=KNeighborsClassifier(n_neighbors=i)\n",
    "    knn.fit(X_train,y_train)\n",
    "    accuracy.append(accuracy_score(y_test,knn.predict(X_test)))"
   ]
  },
  {
   "cell_type": "code",
   "execution_count": 18,
   "metadata": {},
   "outputs": [
    {
     "data": {
      "text/plain": [
       "[0.8875,\n",
       " 0.8875,\n",
       " 0.8875,\n",
       " 0.8875,\n",
       " 0.8875,\n",
       " 0.875,\n",
       " 0.8875,\n",
       " 0.8875,\n",
       " 0.9,\n",
       " 0.875,\n",
       " 0.875,\n",
       " 0.875,\n",
       " 0.8875,\n",
       " 0.875,\n",
       " 0.8875,\n",
       " 0.875,\n",
       " 0.875,\n",
       " 0.875,\n",
       " 0.8875,\n",
       " 0.875,\n",
       " 0.875,\n",
       " 0.875,\n",
       " 0.8875,\n",
       " 0.8875,\n",
       " 0.8875]"
      ]
     },
     "execution_count": 18,
     "metadata": {},
     "output_type": "execute_result"
    }
   ],
   "source": [
    "accuracy"
   ]
  },
  {
   "cell_type": "code",
   "execution_count": 19,
   "metadata": {},
   "outputs": [
    {
     "data": {
      "text/plain": [
       "[<matplotlib.lines.Line2D at 0x1d4338da358>]"
      ]
     },
     "execution_count": 19,
     "metadata": {},
     "output_type": "execute_result"
    },
    {
     "data": {
      "image/png": "[encoded data removed]",
      "text/plain": [
       "<Figure size 432x288 with 1 Axes>"
      ]
     },
     "metadata": {
      "needs_background": "light"
     },
     "output_type": "display_data"
    }
   ],
   "source": [
    "plt.plot(range(1,26),accuracy)"
   ]
  },
  {
   "cell_type": "code",
   "execution_count": 20,
   "metadata": {},
   "outputs": [
    {
     "data": {
      "text/plain": [
       "KNeighborsClassifier(algorithm='auto', leaf_size=30, metric='minkowski',\n",
       "                     metric_params=None, n_jobs=None, n_neighbors=11, p=2,\n",
       "                     weights='uniform')"
      ]
     },
     "execution_count": 20,
     "metadata": {},
     "output_type": "execute_result"
    }
   ],
   "source": [
    "knn=KNeighborsClassifier(n_neighbors=11)\n",
    "knn.fit(X_train,y_train)"
   ]
  },
  {
   "cell_type": "code",
   "execution_count": 21,
   "metadata": {},
   "outputs": [],
   "source": [
    "y_pred=knn.predict(X_test)"
   ]
  },
  {
   "cell_type": "code",
   "execution_count": 23,
   "metadata": {},
   "outputs": [
    {
     "data": {
      "text/plain": [
       "0.875"
      ]
     },
     "execution_count": 23,
     "metadata": {},
     "output_type": "execute_result"
    }
   ],
   "source": [
    "accuracy_score(y_test,y_pred)"
   ]
  },
  {
   "cell_type": "code",
   "execution_count": 30,
   "metadata": {},
   "outputs": [],
   "source": [
    "def predict_output():\n",
    "    age=int(input(\"age likh bhai\"))\n",
    "    salary=int(input(\"salary kitna milta hae\"))\n",
    "    \n",
    "    \n",
    "    X_new= np.array([[age],[salary]]).reshape(1,2)\n",
    "    X_new=scaler.transform(X_new)\n",
    "    \n",
    "    \n",
    "    if knn.predict(X_new)[0]==0:\n",
    "        return \"nhi khareed paayega\"\n",
    "    else:\n",
    "        return \"khareedlega\"\n"
   ]
  },
  {
   "cell_type": "code",
   "execution_count": 31,
   "metadata": {},
   "outputs": [
    {
     "name": "stdout",
     "output_type": "stream",
     "text": [
      "age likh bhai50\n",
      "salary kitna milta hae150000\n"
     ]
    },
    {
     "data": {
      "text/plain": [
       "'khareedlega'"
      ]
     },
     "execution_count": 31,
     "metadata": {},
     "output_type": "execute_result"
    }
   ],
   "source": [
    "predict_output()"
   ]
  },
  {
   "cell_type": "code",
   "execution_count": null,
   "metadata": {},
   "outputs": [],
   "source": []
  }
 ],
 "metadata": {
  "kernelspec": {
   "display_name": "Python 3",
   "language": "python",
   "name": "python3"
  },
  "language_info": {
   "codemirror_mode": {
    "name": "ipython",
    "version": 3
   },
   "file_extension": ".py",
   "mimetype": "text/x-python",
   "name": "python",
   "nbconvert_exporter": "python",
   "pygments_lexer": "ipython3",
   "version": "3.7.3"
  }
 },
 "nbformat": 4,
 "nbformat_minor": 2
}
